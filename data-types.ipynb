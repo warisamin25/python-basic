{
 "cells": [
  {
   "cell_type": "markdown",
   "metadata": {
    "_uuid": "36245c9e8298901b88517e53bb539f81edde5557"
   },
   "source": [
    "## Introduction"
   ]
  },
  {
   "cell_type": "markdown",
   "metadata": {
    "_uuid": "35cc59958521ccc06c69fbd852eb45aa67de76af"
   },
   "source": [
    "Python is a high-level, dynamically typed multiparadigm programming language. Python code is often said to be almost like pseudocode, since it allows you to express very powerful ideas in very few lines of code while being very readable.\n",
    "\n",
    "We will swift through some of the basic concepts in this notebook to understand the usage and get going with the implementation."
   ]
  },
  {
   "cell_type": "markdown",
   "metadata": {
    "_uuid": "b01d1d6de50b78fb66f6359b46d06b7df5aab851"
   },
   "source": [
    "### Python versions"
   ]
  },
  {
   "cell_type": "markdown",
   "metadata": {
    "_uuid": "83d0d4105c2a9f7c795c62ec5d23265f2802f1bd"
   },
   "source": [
    "You can check your Python version at the command line by running `python --version`."
   ]
  },
  {
   "attachments": {
    "version.PNG": {
     "image/png": "[encoded data removed]"
    }
   },
   "cell_type": "markdown",
   "metadata": {
    "_uuid": "e2eaf4bb4d24ac526457cf1cba213b9cfc7b06f0"
   },
   "source": [
    "![version.PNG](attachment:version.PNG)\n",
    "\n",
    "This Jupyter Notebook is running on Python version `3.6.6`"
   ]
  },
  {
   "cell_type": "markdown",
   "metadata": {
    "_uuid": "5256338e5aa45238d462045cc40aebc9d164bfa8"
   },
   "source": [
    "### Basic data types"
   ]
  },
  {
   "cell_type": "markdown",
   "metadata": {
    "_uuid": "c020fd54163e551bc931ca3e0bce8fcfbe5f3f47"
   },
   "source": [
    "#### Numbers"
   ]
  },
  {
   "cell_type": "markdown",
   "metadata": {
    "_uuid": "83590c6ae8f012b050b587c828edfc1cdc240447"
   },
   "source": [
    "Integers and floats work as you would expect from other languages:"
   ]
  },
  {
   "cell_type": "code",
   "execution_count": null,
   "metadata": {
    "_uuid": "d67eaf882e657bbfc5c1bb082b3b04dcd0a7816c"
   },
   "outputs": [],
   "source": [
    "x = 3\n",
    "x"
   ]
  },
  {
   "cell_type": "code",
   "execution_count": null,
   "metadata": {
    "_uuid": "3431d4f07f662a2a038bedcd52a23c0e550aa486"
   },
   "outputs": [],
   "source": [
    "type(x)"
   ]
  },
  {
   "cell_type": "code",
   "execution_count": null,
   "metadata": {
    "_uuid": "65312685479a4d310b083cd045b8819192d4967e"
   },
   "outputs": [],
   "source": [
    "print(x + 1)   # Addition;\n",
    "print(x - 1)   # Subtraction;\n",
    "print(x * 2)   # Multiplication;\n",
    "print(x ** 2)  # Exponentiation;"
   ]
  },
  {
   "cell_type": "markdown",
   "metadata": {
    "_uuid": "c6ad3f41810c51f597ccccf1cc8410d5d59b1859"
   },
   "source": [
    "Note: Anything written after `#` in any line of program is treated as comment in Python."
   ]
  },
  {
   "cell_type": "code",
   "execution_count": null,
   "metadata": {
    "_uuid": "c750bb551c23fe1ce9e8cfbffa449dc34a3e9848"
   },
   "outputs": [],
   "source": [
    "x += 1\n",
    "print(x)  # Prints \"4\"\n",
    "x *= 2\n",
    "print(x)  # Prints \"8\""
   ]
  },
  {
   "cell_type": "code",
   "execution_count": null,
   "metadata": {
    "_uuid": "2744c8d5aa1e4ffc0b990d7031b2eef85440915e"
   },
   "outputs": [],
   "source": [
    "y = 2.5\n",
    "print(type(y)) # Prints \"<type 'float'>\"\n",
    "print(y, y + 1) # Prints \"2.5 3.5\""
   ]
  },
  {
   "cell_type": "markdown",
   "metadata": {
    "_uuid": "9636423776094aef6dd75f211c80bd812e28e9ee"
   },
   "source": [
    "Note that unlike many languages, Python does not have unary increment (x++) or decrement (x--) operators.\n",
    "\n",
    "Python also has built-in types for long integers and complex numbers; you can find all of the details in the [documentation](https://docs.python.org/2/library/stdtypes.html#numeric-types-int-float-long-complex)."
   ]
  },
  {
   "cell_type": "markdown",
   "metadata": {
    "_uuid": "a8c0271d599b10aef4be2caee8dfd8efd82e86c8"
   },
   "source": [
    "#### Booleans"
   ]
  },
  {
   "cell_type": "markdown",
   "metadata": {
    "_uuid": "e7bef5e8abb2b8ecd162cf2776f703e241b3f6d3"
   },
   "source": [
    "Python implements all of the usual operators for Boolean logic, but uses English words rather than symbols (`&&`, `||`, etc.):"
   ]
  },
  {
   "cell_type": "code",
   "execution_count": null,
   "metadata": {
    "_uuid": "a7ba73e99d958586f505b8417a811d8fe95575de"
   },
   "outputs": [],
   "source": [
    "t, f = True, False\n",
    "print(type(t)) # Prints \"<type 'bool'>\""
   ]
  },
  {
   "cell_type": "code",
   "execution_count": null,
   "metadata": {
    "_uuid": "9e7b485796693d752a7ecedac80e01bab5945a0b"
   },
   "outputs": [],
   "source": [
    "print(t and f) # Logical AND;\n",
    "print(t or f)  # Logical OR;\n",
    "print(not t)   # Logical NOT;\n",
    "print(t != f)  # Logical XOR;"
   ]
  },
  {
   "cell_type": "markdown",
   "metadata": {
    "_uuid": "31aeae70a6b4732aa71c0dd87779df7c197e2114"
   },
   "source": [
    "#### Strings"
   ]
  },
  {
   "cell_type": "code",
   "execution_count": null,
   "metadata": {
    "_uuid": "1583c92882479a2c042664f8356450a26fd15c68"
   },
   "outputs": [],
   "source": [
    "wishing = 'Welcome!'   # String literals can use single quotes\n",
    "guest = \"Mayur\"   # or double quotes; it does not matter.\n",
    "print(wishing, guest)"
   ]
  },
  {
   "cell_type": "code",
   "execution_count": null,
   "metadata": {
    "_uuid": "8c41f9d56bfb609b009846e6f55727181ba8f933"
   },
   "outputs": [],
   "source": [
    "print('Welcome! Mayur')\n",
    "print(\"Welcome! Sam\")"
   ]
  },
  {
   "cell_type": "code",
   "execution_count": null,
   "metadata": {
    "_uuid": "84ed75702dedbd9f7280f2a0775742226357dad8"
   },
   "outputs": [],
   "source": [
    "s = \"hello\"\n",
    "print(s.capitalize())  # Capitalize a string; prints \"Hello\"\n",
    "print(s.upper())       # Convert a string to uppercase; prints \"HELLO\""
   ]
  },
  {
   "cell_type": "markdown",
   "metadata": {
    "_uuid": "f2441372c4a5af47a9804bf3701e1d5bea3cd8e3"
   },
   "source": [
    "You can find a list of all string methods in the [documentation](https://docs.python.org/2/library/stdtypes.html#string-methods)."
   ]
  },
  {
   "cell_type": "markdown",
   "metadata": {
    "_uuid": "d95b774a86be0c5bcf28dfeb78ae20a69b7e4640"
   },
   "source": [
    "### Containers"
   ]
  },
  {
   "cell_type": "markdown",
   "metadata": {
    "_uuid": "72b792a765a4368cfb8aba89cbc8e94e0b8f7883"
   },
   "source": [
    "#### Lists"
   ]
  },
  {
   "cell_type": "markdown",
   "metadata": {
    "_uuid": "eb2148330fd9c20d38643bae8bbda2bf4910b2a7"
   },
   "source": [
    "A list is the Python equivalent of an array, but is resizeable and can contain elements of different types:"
   ]
  },
  {
   "cell_type": "code",
   "execution_count": null,
   "metadata": {
    "_uuid": "87114734549eeca25a41820a7216b850df756e1b"
   },
   "outputs": [],
   "source": [
    "mylist = [1,2,3,'four'] # Create a list\n",
    "mylist"
   ]
  },
  {
   "cell_type": "code",
   "execution_count": null,
   "metadata": {
    "_uuid": "6ea6ebd6c4d693ab3fb07b37c8457247212b9685"
   },
   "outputs": [],
   "source": [
    "mylist[2]"
   ]
  },
  {
   "cell_type": "code",
   "execution_count": null,
   "metadata": {
    "_uuid": "f9363aaddc7c7b570b27b0943e6b4ac23169b9a6"
   },
   "outputs": [],
   "source": [
    "mylist[-1] # Negative indices count from the end of the list"
   ]
  },
  {
   "cell_type": "code",
   "execution_count": null,
   "metadata": {
    "_uuid": "1922c83693664693cc9c4b1428d7e5df0f3174c3"
   },
   "outputs": [],
   "source": [
    "mylist[3] = 'foo'\n",
    "mylist"
   ]
  },
  {
   "cell_type": "code",
   "execution_count": null,
   "metadata": {
    "_uuid": "2a7cb642f4ee0ebcebc0f105a9ab92b34ecc6102"
   },
   "outputs": [],
   "source": [
    "mylist.append('bar') # Add a new element to the end of the list\n",
    "mylist"
   ]
  },
  {
   "cell_type": "code",
   "execution_count": null,
   "metadata": {
    "_uuid": "babe6a9aac051f227b46b8021c9f1b6f6db77492"
   },
   "outputs": [],
   "source": [
    "mylist.pop() # Remove the last element from the list\n",
    "mylist"
   ]
  },
  {
   "cell_type": "code",
   "execution_count": null,
   "metadata": {
    "_uuid": "74ccb19092438b8b1ea9461b287c1b8695e8a7d6"
   },
   "outputs": [],
   "source": [
    "l = mylist.pop() # Remove and return the last element of the list\n",
    "l"
   ]
  },
  {
   "cell_type": "markdown",
   "metadata": {
    "_uuid": "6eb0da673641942638e73f9247ab05885abb943f"
   },
   "source": [
    "As usual, you can find all the details about lists in the [documentation](https://docs.python.org/2/tutorial/datastructures.html#more-on-lists)."
   ]
  },
  {
   "cell_type": "markdown",
   "metadata": {
    "_uuid": "89371b3d3a1c24c741a8e8bb717e41a2c64ddd9d"
   },
   "source": [
    "##### List Slicing"
   ]
  },
  {
   "cell_type": "markdown",
   "metadata": {
    "_uuid": "e47a1c18e39525ebd5d1748848ab198b74eb0bea"
   },
   "source": [
    "In addition to accessing list elements one at a time, Python provides concise syntax to access sublists; this is known as slicing:"
   ]
  },
  {
   "cell_type": "code",
   "execution_count": null,
   "metadata": {
    "_uuid": "a46234a434238fd11afc44714a31422325dbebbb"
   },
   "outputs": [],
   "source": [
    "nums = [0,1,2,3,4]\n",
    "print(nums)         # Prints \"[0, 1, 2, 3, 4]\"\n",
    "print(nums[2:4])    # Get a slice from index 2 to 4 (exclusive); prints \"[2, 3]\"\n",
    "print(nums[2:])     # Get a slice from index 2 to the end; prints \"[2, 3, 4]\"\n",
    "print(nums[:2])     # Get a slice from the start to index 2 (exclusive); prints \"[0, 1]\"\n",
    "print(nums[:])      # Get a slice of the whole list; prints [\"0, 1, 2, 3, 4]\"\n",
    "print(nums[:-1])    # Slice indices can be negative; prints [\"0, 1, 2, 3]\"\n",
    "nums[2:4] = [8, 9] # Assign a new sublist to a slice\n",
    "print(nums)         # Prints \"[0, 1, 8, 9, 4]\""
   ]
  },
  {
   "cell_type": "markdown",
   "metadata": {
    "_uuid": "4f39f2e99bdd431b25c33e4c18815d92ff8f6f50"
   },
   "source": [
    "#### Dictionaries"
   ]
  },
  {
   "cell_type": "markdown",
   "metadata": {
    "_uuid": "648037f981e92941918b81055ba31a3566a09f46"
   },
   "source": [
    "A dictionary stores (key, value) pairs."
   ]
  },
  {
   "cell_type": "code",
   "execution_count": null,
   "metadata": {
    "_uuid": "4ea822c312935c58e700ae6afb4a0b6a588a6356"
   },
   "outputs": [],
   "source": [
    "d = {'cat': 'fluffy', 'dog': 'furry'}  # Create a new dictionary with some data\n",
    "print(d['cat'])       # Get an entry from a dictionary; prints \"cute\"\n",
    "print('cat' in d)     # Check if a dictionary has a given key; prints \"True\""
   ]
  },
  {
   "cell_type": "code",
   "execution_count": null,
   "metadata": {
    "_uuid": "9ef1da23f59af2efd5492222a735b661ad63853a"
   },
   "outputs": [],
   "source": [
    "d['fish'] = 'wet'    # Set an entry in a dictionary\n",
    "d      "
   ]
  },
  {
   "cell_type": "markdown",
   "metadata": {
    "_uuid": "286986a29fec7883887dd00b6be2c86d379371d2"
   },
   "source": [
    "#### Tuples"
   ]
  },
  {
   "cell_type": "markdown",
   "metadata": {
    "_uuid": "b68c6089fae705f02c7ca71f9f79f389615252cf"
   },
   "source": [
    "A tuple is an (immutable) ordered list of values. "
   ]
  },
  {
   "cell_type": "code",
   "execution_count": null,
   "metadata": {
    "_uuid": "b594441b15349aedd376743bdc3293c048cd34f4"
   },
   "outputs": [],
   "source": [
    "t = (5, 6)\n",
    "type(t)"
   ]
  },
  {
   "cell_type": "code",
   "execution_count": null,
   "metadata": {
    "_uuid": "319ff9f2e84cd5359747e8b77d0b2e0037dace4e"
   },
   "outputs": [],
   "source": [
    "t[0]"
   ]
  },
  {
   "cell_type": "code",
   "execution_count": null,
   "metadata": {
    "_uuid": "177ddf369b63d88abd576de19545aa95cde13beb"
   },
   "outputs": [],
   "source": [
    "t[0] = 1 #Item assignment is not possible with tuple"
   ]
  }
 ],
 "metadata": {
  "kernelspec": {
   "display_name": "Python 3",
   "language": "python",
   "name": "python3"
  },
  "language_info": {
   "codemirror_mode": {
    "name": "ipython",
    "version": 3
   },
   "file_extension": ".py",
   "mimetype": "text/x-python",
   "name": "python",
   "nbconvert_exporter": "python",
   "pygments_lexer": "ipython3",
   "version": "3.6.9"
  }
 },
 "nbformat": 4,
 "nbformat_minor": 4
}
